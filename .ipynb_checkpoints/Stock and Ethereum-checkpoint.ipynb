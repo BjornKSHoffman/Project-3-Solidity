{
 "cells": [
  {
   "cell_type": "code",
   "execution_count": 54,
   "metadata": {},
   "outputs": [],
   "source": [
    "import pandas as pd\n",
    "import yfinance as yf\n",
    "import datetime\n",
    "import ccxt\n",
    "import os\n",
    "import pandas as pd\n",
    "from dotenv import load_dotenv"
   ]
  },
  {
   "cell_type": "code",
   "execution_count": 55,
   "metadata": {},
   "outputs": [
    {
     "name": "stdout",
     "output_type": "stream",
     "text": [
      "[*********************100%***********************]  1 of 1 completed\n"
     ]
    },
    {
     "data": {
      "text/html": [
       "<div>\n",
       "<style scoped>\n",
       "    .dataframe tbody tr th:only-of-type {\n",
       "        vertical-align: middle;\n",
       "    }\n",
       "\n",
       "    .dataframe tbody tr th {\n",
       "        vertical-align: top;\n",
       "    }\n",
       "\n",
       "    .dataframe thead th {\n",
       "        text-align: right;\n",
       "    }\n",
       "</style>\n",
       "<table border=\"1\" class=\"dataframe\">\n",
       "  <thead>\n",
       "    <tr style=\"text-align: right;\">\n",
       "      <th></th>\n",
       "      <th>Open</th>\n",
       "      <th>High</th>\n",
       "      <th>Low</th>\n",
       "      <th>Close</th>\n",
       "      <th>Adj Close</th>\n",
       "      <th>Volume</th>\n",
       "    </tr>\n",
       "    <tr>\n",
       "      <th>Date</th>\n",
       "      <th></th>\n",
       "      <th></th>\n",
       "      <th></th>\n",
       "      <th></th>\n",
       "      <th></th>\n",
       "      <th></th>\n",
       "    </tr>\n",
       "  </thead>\n",
       "  <tbody>\n",
       "    <tr>\n",
       "      <th>2021-02-05</th>\n",
       "      <td>54.040001</td>\n",
       "      <td>95.0</td>\n",
       "      <td>51.09</td>\n",
       "      <td>63.77</td>\n",
       "      <td>63.77</td>\n",
       "      <td>79541313</td>\n",
       "    </tr>\n",
       "  </tbody>\n",
       "</table>\n",
       "</div>"
      ],
      "text/plain": [
       "                 Open  High    Low  Close  Adj Close    Volume\n",
       "Date                                                          \n",
       "2021-02-05  54.040001  95.0  51.09  63.77      63.77  79541313"
      ]
     },
     "execution_count": 55,
     "metadata": {},
     "output_type": "execute_result"
    }
   ],
   "source": [
    "# Find yesterday's closing price of stock\n",
    "\n",
    "today = datetime.date.today() + datetime.timedelta(days=1)\n",
    "day2 = today - datetime.timedelta(days=1)\n",
    "\n",
    "stock = 'GME'\n",
    "stock_df = yf.download(stock, day2, today)\n",
    "stock_df.head()"
   ]
  },
  {
   "cell_type": "code",
   "execution_count": 56,
   "metadata": {},
   "outputs": [
    {
     "name": "stdout",
     "output_type": "stream",
     "text": [
      "63.77000045776367\n"
     ]
    }
   ],
   "source": [
    "stock = float(stock_df['Close'])\n",
    "print(stock)"
   ]
  },
  {
   "cell_type": "code",
   "execution_count": 57,
   "metadata": {},
   "outputs": [
    {
     "name": "stdout",
     "output_type": "stream",
     "text": [
      "Kraken key data type: <class 'str'>\n",
      "Kraken secren data type: <class 'str'>\n"
     ]
    }
   ],
   "source": [
    "# Load environment variables\n",
    "\n",
    "load_dotenv()\n",
    "\n",
    "# Import environment variables\n",
    "\n",
    "kraken_public_key = os.getenv(\"KRAKEN_PUBLIC_KEY\")\n",
    "kraken_secret_key = os.getenv(\"KRAKEN_SECRET_KEY\")\n",
    "\n",
    "# Verify that environment variables were loaded\n",
    "\n",
    "print(f\"Kraken key data type: {type(kraken_public_key)}\")\n",
    "print(f\"Kraken secren data type: {type(kraken_secret_key)}\")\n"
   ]
  },
  {
   "cell_type": "code",
   "execution_count": 58,
   "metadata": {},
   "outputs": [],
   "source": [
    "#print(kraken_public_key)\n",
    "#print(kraken_secret_key)"
   ]
  },
  {
   "cell_type": "code",
   "execution_count": 59,
   "metadata": {},
   "outputs": [],
   "source": [
    "# Set the public and private keys for the API\n",
    "exchange = ccxt.kraken({\n",
    "    'apiKey': kraken_public_key,\n",
    "    'secret': kraken_secret_key,\n",
    "})"
   ]
  },
  {
   "cell_type": "code",
   "execution_count": 60,
   "metadata": {},
   "outputs": [
    {
     "data": {
      "text/html": [
       "<div>\n",
       "<style scoped>\n",
       "    .dataframe tbody tr th:only-of-type {\n",
       "        vertical-align: middle;\n",
       "    }\n",
       "\n",
       "    .dataframe tbody tr th {\n",
       "        vertical-align: top;\n",
       "    }\n",
       "\n",
       "    .dataframe thead th {\n",
       "        text-align: right;\n",
       "    }\n",
       "</style>\n",
       "<table border=\"1\" class=\"dataframe\">\n",
       "  <thead>\n",
       "    <tr style=\"text-align: right;\">\n",
       "      <th></th>\n",
       "      <th>timestamp</th>\n",
       "      <th>open</th>\n",
       "      <th>high</th>\n",
       "      <th>low</th>\n",
       "      <th>close</th>\n",
       "      <th>volume</th>\n",
       "    </tr>\n",
       "  </thead>\n",
       "  <tbody>\n",
       "    <tr>\n",
       "      <th>719</th>\n",
       "      <td>1612569600000</td>\n",
       "      <td>1722.0</td>\n",
       "      <td>1744.58</td>\n",
       "      <td>1648.5</td>\n",
       "      <td>1698.61</td>\n",
       "      <td>83089.302787</td>\n",
       "    </tr>\n",
       "  </tbody>\n",
       "</table>\n",
       "</div>"
      ],
      "text/plain": [
       "         timestamp    open     high     low    close        volume\n",
       "719  1612569600000  1722.0  1744.58  1648.5  1698.61  83089.302787"
      ]
     },
     "execution_count": 60,
     "metadata": {},
     "output_type": "execute_result"
    }
   ],
   "source": [
    "# Fetch daily candlestick bar data from `BTC/USD`\n",
    "\n",
    "historical_prices = exchange.fetch_ohlcv(\"ETH/USD\", \"1d\")\n",
    "\n",
    "# Import the data as a Pandas DataFrame and set the columns\n",
    "\n",
    "historical_prices_df = pd.DataFrame(\n",
    "    historical_prices, columns=[\"timestamp\", \"open\", \"high\", \"low\", \"close\", \"volume\"]\n",
    ")\n",
    "\n",
    "#historical_prices_df\n",
    "\n",
    "df2 = historical_prices_df.iloc[[-1]]\n",
    "df2"
   ]
  },
  {
   "cell_type": "code",
   "execution_count": 61,
   "metadata": {},
   "outputs": [
    {
     "name": "stdout",
     "output_type": "stream",
     "text": [
      "1698.61\n"
     ]
    }
   ],
   "source": [
    "# Ethereum Close Price\n",
    "\n",
    "ETH = float(df2['close'])\n",
    "print(ETH)"
   ]
  },
  {
   "cell_type": "code",
   "execution_count": 62,
   "metadata": {},
   "outputs": [
    {
     "name": "stdout",
     "output_type": "stream",
     "text": [
      "63.77000045776367\n",
      "1698.61\n"
     ]
    }
   ],
   "source": [
    "print(stock)\n",
    "print(ETH)"
   ]
  },
  {
   "cell_type": "code",
   "execution_count": 63,
   "metadata": {},
   "outputs": [
    {
     "name": "stdout",
     "output_type": "stream",
     "text": [
      "0.03754246145834752\n"
     ]
    }
   ],
   "source": [
    "# 1 Stock equals this much ether\n",
    "\n",
    "conversion = (stock/ETH)\n",
    "print(conversion)"
   ]
  },
  {
   "cell_type": "code",
   "execution_count": 64,
   "metadata": {},
   "outputs": [
    {
     "name": "stdout",
     "output_type": "stream",
     "text": [
      "3.754246145834752e+16\n"
     ]
    }
   ],
   "source": [
    "# 1 ether equals 10**18 wei \n",
    "\n",
    "wei = 10**18\n",
    "\n",
    "# 1 stock equals this much wei \n",
    "\n",
    "total_wei = conversion * wei\n",
    "print(total_wei)"
   ]
  },
  {
   "cell_type": "code",
   "execution_count": 16,
   "metadata": {},
   "outputs": [],
   "source": []
  },
  {
   "cell_type": "code",
   "execution_count": null,
   "metadata": {},
   "outputs": [],
   "source": []
  },
  {
   "cell_type": "code",
   "execution_count": null,
   "metadata": {},
   "outputs": [],
   "source": []
  }
 ],
 "metadata": {
  "kernelspec": {
   "display_name": "Python 3",
   "language": "python",
   "name": "python3"
  },
  "language_info": {
   "codemirror_mode": {
    "name": "ipython",
    "version": 3
   },
   "file_extension": ".py",
   "mimetype": "text/x-python",
   "name": "python",
   "nbconvert_exporter": "python",
   "pygments_lexer": "ipython3",
   "version": "3.8.3"
  }
 },
 "nbformat": 4,
 "nbformat_minor": 4
}
